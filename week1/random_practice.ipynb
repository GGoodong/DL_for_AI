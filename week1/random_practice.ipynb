{
  "nbformat": 4,
  "nbformat_minor": 0,
  "metadata": {
    "colab": {
      "provenance": [],
      "authorship_tag": "ABX9TyNJJubo106zgNLfKiCDRMWo",
      "include_colab_link": true
    },
    "kernelspec": {
      "name": "python3",
      "display_name": "Python 3"
    },
    "language_info": {
      "name": "python"
    }
  },
  "cells": [
    {
      "cell_type": "markdown",
      "metadata": {
        "id": "view-in-github",
        "colab_type": "text"
      },
      "source": [
        "<a href=\"https://colab.research.google.com/github/GGoodong/DL_for_AI/blob/main/Week1/random_practice.ipynb\" target=\"_parent\"><img src=\"https://colab.research.google.com/assets/colab-badge.svg\" alt=\"Open In Colab\"/></a>"
      ]
    },
    {
      "cell_type": "markdown",
      "source": [
        "# 1주차 실습\n",
        "마크 다운 문법 적용해보기\n",
        "\n",
        "\n",
        "#### 1. Bold\n",
        "**25** years old  \n",
        "    \n",
        "#### 2. Italic\n",
        "_Nice to meet you_\n",
        "  \n",
        "#### 3. 크기 변화\n",
        "# Hi\n",
        "## Hello\n",
        "### Ni hao\n"
      ],
      "metadata": {
        "id": "qjH2sr_TMtC0"
      }
    },
    {
      "cell_type": "code",
      "source": [],
      "metadata": {
        "id": "kHqGSYrGM-F2"
      },
      "execution_count": null,
      "outputs": []
    }
  ]
}
