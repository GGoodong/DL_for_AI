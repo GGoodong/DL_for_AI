{
  "cells": [
    {
      "cell_type": "markdown",
      "metadata": {
        "id": "view-in-github",
        "colab_type": "text"
      },
      "source": [
        "<a href=\"https://colab.research.google.com/github/GGoodong/DL_for_AI/blob/main/week3/chapter02_mathematical_building_blocks.ipynb\" target=\"_parent\"><img src=\"https://colab.research.google.com/assets/colab-badge.svg\" alt=\"Open In Colab\"/></a>"
      ]
    },
    {
      "cell_type": "markdown",
      "metadata": {
        "id": "vqtssdcJHmxw"
      },
      "source": [
        "This is a companion notebook for the book [Deep Learning with Python, Second Edition](https://www.manning.com/books/deep-learning-with-python-second-edition?a_aid=keras&a_bid=76564dff). For readability, it only contains runnable code blocks and section titles, and omits everything else in the book: text paragraphs, figures, and pseudocode.\n",
        "\n",
        "**If you want to be able to follow what's going on, I recommend reading the notebook side by side with your copy of the book.**\n",
        "\n",
        "This notebook was generated for TensorFlow 2.6."
      ]
    },
    {
      "cell_type": "markdown",
      "metadata": {
        "id": "X-jvhTfzHmxy"
      },
      "source": [
        "# The mathematical building blocks of neural networks"
      ]
    },
    {
      "cell_type": "markdown",
      "metadata": {
        "id": "H-mqemeoHmxy"
      },
      "source": [
        "## A first look at a neural network"
      ]
    },
    {
      "cell_type": "markdown",
      "metadata": {
        "id": "L5DjlP0WHmxy"
      },
      "source": [
        "**Loading the MNIST dataset in Keras**"
      ]
    },
    {
      "cell_type": "code",
      "execution_count": null,
      "metadata": {
        "id": "1FaMaiV3Hmxy",
        "colab": {
          "base_uri": "https://localhost:8080/"
        },
        "outputId": "c1fb9901-ef7c-4750-b1aa-5870daafafc8"
      },
      "outputs": [
        {
          "output_type": "stream",
          "name": "stdout",
          "text": [
            "Downloading data from https://storage.googleapis.com/tensorflow/tf-keras-datasets/mnist.npz\n",
            "11490434/11490434 [==============================] - 0s 0us/step\n"
          ]
        }
      ],
      "source": [
        "from tensorflow.keras.datasets import mnist\n",
        "(train_images, train_labels), (test_images, test_labels) = mnist.load_data()"
      ]
    },
    {
      "cell_type": "code",
      "execution_count": null,
      "metadata": {
        "colab": {
          "base_uri": "https://localhost:8080/"
        },
        "id": "LJDh2soyHmxz",
        "outputId": "eec63488-4fbd-4495-ebd4-e9a86371685c"
      },
      "outputs": [
        {
          "output_type": "execute_result",
          "data": {
            "text/plain": [
              "(60000, 28, 28)"
            ]
          },
          "metadata": {},
          "execution_count": 37
        }
      ],
      "source": [
        "train_images.shape"
      ]
    },
    {
      "cell_type": "code",
      "execution_count": null,
      "metadata": {
        "colab": {
          "base_uri": "https://localhost:8080/"
        },
        "id": "0gLMNbdLHmxz",
        "outputId": "bf48bece-0902-4967-d831-ffce37c43780"
      },
      "outputs": [
        {
          "output_type": "execute_result",
          "data": {
            "text/plain": [
              "60000"
            ]
          },
          "metadata": {},
          "execution_count": 38
        }
      ],
      "source": [
        "len(train_labels)"
      ]
    },
    {
      "cell_type": "code",
      "execution_count": null,
      "metadata": {
        "colab": {
          "base_uri": "https://localhost:8080/"
        },
        "id": "ic40BYZrHmxz",
        "outputId": "6404108d-ca13-445d-adc1-f249c5233e9c"
      },
      "outputs": [
        {
          "output_type": "execute_result",
          "data": {
            "text/plain": [
              "array([5, 0, 4, ..., 5, 6, 8], dtype=uint8)"
            ]
          },
          "metadata": {},
          "execution_count": 39
        }
      ],
      "source": [
        "train_labels"
      ]
    },
    {
      "cell_type": "code",
      "execution_count": null,
      "metadata": {
        "colab": {
          "base_uri": "https://localhost:8080/"
        },
        "id": "XaF7aNfLHmxz",
        "outputId": "d23d9ec1-709b-4055-9cf0-cbc77ee6d45c"
      },
      "outputs": [
        {
          "output_type": "execute_result",
          "data": {
            "text/plain": [
              "(10000, 28, 28)"
            ]
          },
          "metadata": {},
          "execution_count": 40
        }
      ],
      "source": [
        "test_images.shape"
      ]
    },
    {
      "cell_type": "code",
      "execution_count": null,
      "metadata": {
        "colab": {
          "base_uri": "https://localhost:8080/"
        },
        "id": "FRp-qvztHmxz",
        "outputId": "49b9ca3b-ba3a-4d9d-f6a2-f3a1f611d215"
      },
      "outputs": [
        {
          "output_type": "execute_result",
          "data": {
            "text/plain": [
              "10000"
            ]
          },
          "metadata": {},
          "execution_count": 41
        }
      ],
      "source": [
        "len(test_labels)"
      ]
    },
    {
      "cell_type": "code",
      "execution_count": null,
      "metadata": {
        "colab": {
          "base_uri": "https://localhost:8080/"
        },
        "id": "_hPK2yNCHmxz",
        "outputId": "916ca8e0-957e-4346-900f-8ea60a63210f"
      },
      "outputs": [
        {
          "output_type": "execute_result",
          "data": {
            "text/plain": [
              "array([7, 2, 1, ..., 4, 5, 6], dtype=uint8)"
            ]
          },
          "metadata": {},
          "execution_count": 42
        }
      ],
      "source": [
        "test_labels"
      ]
    },
    {
      "cell_type": "markdown",
      "metadata": {
        "id": "_qtkn6xmHmxz"
      },
      "source": [
        "**The network architecture**"
      ]
    },
    {
      "cell_type": "code",
      "execution_count": null,
      "metadata": {
        "id": "jj3q8n28Hmxz"
      },
      "outputs": [],
      "source": [
        "from tensorflow import keras\n",
        "from tensorflow.keras import layers\n",
        "model = keras.Sequential([\n",
        "    layers.Dense(512, activation=\"relu\"),\n",
        "    layers.Dense(10, activation=\"softmax\")\n",
        "])"
      ]
    },
    {
      "cell_type": "markdown",
      "metadata": {
        "id": "uQHdX34HHmx0"
      },
      "source": [
        "**The compilation step**"
      ]
    },
    {
      "cell_type": "code",
      "execution_count": null,
      "metadata": {
        "id": "CaYiZbtlHmx0"
      },
      "outputs": [],
      "source": [
        "model.compile(optimizer=\"rmsprop\",\n",
        "              loss=\"sparse_categorical_crossentropy\",\n",
        "              metrics=[\"accuracy\"])"
      ]
    },
    {
      "cell_type": "markdown",
      "metadata": {
        "id": "DXcvtstMHmx0"
      },
      "source": [
        "**Preparing the image data**"
      ]
    },
    {
      "cell_type": "code",
      "execution_count": null,
      "metadata": {
        "id": "3FxBAamOHmx0"
      },
      "outputs": [],
      "source": [
        "# Input으로 넣을때 1차원으로 펴는 것\n",
        "# RGB scale(0~255)에 맞추어 스케일을 0~1사이로 줄이기 위해 255를 나눠준다. S) 정규화\n",
        "\n",
        "train_images = train_images.reshape((60000, 28 * 28))\n",
        "train_images = train_images.astype(\"float32\") / 255\n",
        "test_images = test_images.reshape((10000, 28 * 28))\n",
        "test_images = test_images.astype(\"float32\") / 255"
      ]
    },
    {
      "cell_type": "markdown",
      "metadata": {
        "id": "GzuxCoSyHmx0"
      },
      "source": [
        "**\"Fitting\" the model**"
      ]
    },
    {
      "cell_type": "code",
      "execution_count": null,
      "metadata": {
        "colab": {
          "base_uri": "https://localhost:8080/"
        },
        "id": "br9jgZMIHmx0",
        "outputId": "044c91f7-b0a9-4184-dda8-7c61919d2454"
      },
      "outputs": [
        {
          "output_type": "stream",
          "name": "stdout",
          "text": [
            "Epoch 1/5\n",
            "600/600 [==============================] - 6s 9ms/step - loss: 0.2496 - accuracy: 0.9272\n",
            "Epoch 2/5\n",
            "600/600 [==============================] - 4s 7ms/step - loss: 0.0998 - accuracy: 0.9703\n",
            "Epoch 3/5\n",
            "600/600 [==============================] - 5s 8ms/step - loss: 0.0663 - accuracy: 0.9801\n",
            "Epoch 4/5\n",
            "600/600 [==============================] - 4s 7ms/step - loss: 0.0486 - accuracy: 0.9852\n",
            "Epoch 5/5\n",
            "600/600 [==============================] - 4s 7ms/step - loss: 0.0352 - accuracy: 0.9897\n"
          ]
        },
        {
          "output_type": "execute_result",
          "data": {
            "text/plain": [
              "<keras.src.callbacks.History at 0x7b641c3ab760>"
            ]
          },
          "metadata": {},
          "execution_count": 46
        }
      ],
      "source": [
        "# 60000/100 = 600, Epoch별 600번에 업데이트를 진행\n",
        "\n",
        "model.fit(train_images, train_labels, epochs=5, batch_size=100)"
      ]
    },
    {
      "cell_type": "markdown",
      "metadata": {
        "id": "ygTmyLh-Hmx0"
      },
      "source": [
        "**Using the model to make predictions**"
      ]
    },
    {
      "cell_type": "code",
      "execution_count": null,
      "metadata": {
        "colab": {
          "base_uri": "https://localhost:8080/"
        },
        "id": "gpuDmPb4Hmx0",
        "outputId": "5faf9610-5b4f-48c7-d316-50663921c971"
      },
      "outputs": [
        {
          "output_type": "stream",
          "name": "stdout",
          "text": [
            "1/1 [==============================] - 0s 92ms/step\n"
          ]
        },
        {
          "output_type": "execute_result",
          "data": {
            "text/plain": [
              "array([7.9279348e-09, 5.4428528e-09, 9.6532749e-06, 5.1803607e-05,\n",
              "       1.0904070e-10, 2.2837438e-07, 3.3347728e-13, 9.9993199e-01,\n",
              "       4.0501737e-07, 5.7649104e-06], dtype=float32)"
            ]
          },
          "metadata": {},
          "execution_count": 47
        }
      ],
      "source": [
        "test_digits = test_images[0:10]\n",
        "predictions = model.predict(test_digits)\n",
        "predictions[0]"
      ]
    },
    {
      "cell_type": "code",
      "execution_count": null,
      "metadata": {
        "colab": {
          "base_uri": "https://localhost:8080/"
        },
        "id": "OWftVmvPHmx0",
        "outputId": "27cd9257-e016-4f18-9ac0-1712c186374e"
      },
      "outputs": [
        {
          "output_type": "execute_result",
          "data": {
            "text/plain": [
              "7"
            ]
          },
          "metadata": {},
          "execution_count": 48
        }
      ],
      "source": [
        "predictions[0].argmax()"
      ]
    },
    {
      "cell_type": "code",
      "execution_count": null,
      "metadata": {
        "colab": {
          "base_uri": "https://localhost:8080/"
        },
        "id": "J3QJEAsbHmx0",
        "outputId": "c563686d-19b7-4cec-bb1b-42511cb385c0"
      },
      "outputs": [
        {
          "output_type": "execute_result",
          "data": {
            "text/plain": [
              "0.999932"
            ]
          },
          "metadata": {},
          "execution_count": 49
        }
      ],
      "source": [
        "predictions[0][7]"
      ]
    },
    {
      "cell_type": "code",
      "execution_count": null,
      "metadata": {
        "colab": {
          "base_uri": "https://localhost:8080/"
        },
        "id": "4SLApUbgHmx0",
        "outputId": "5a474479-42b1-4540-fae6-300379bce3b7"
      },
      "outputs": [
        {
          "output_type": "execute_result",
          "data": {
            "text/plain": [
              "7"
            ]
          },
          "metadata": {},
          "execution_count": 50
        }
      ],
      "source": [
        "test_labels[0]"
      ]
    },
    {
      "cell_type": "markdown",
      "metadata": {
        "id": "ECnWlFrdHmx0"
      },
      "source": [
        "**Evaluating the model on new data**"
      ]
    },
    {
      "cell_type": "code",
      "execution_count": null,
      "metadata": {
        "colab": {
          "base_uri": "https://localhost:8080/"
        },
        "id": "wHpUwRQVHmx0",
        "outputId": "427f65b4-1f51-4359-9fc2-cb15187c6ea4"
      },
      "outputs": [
        {
          "output_type": "stream",
          "name": "stdout",
          "text": [
            "313/313 [==============================] - 1s 2ms/step - loss: 0.0772 - accuracy: 0.9764\n",
            "test_acc: 0.9764000177383423\n"
          ]
        }
      ],
      "source": [
        "test_loss, test_acc = model.evaluate(test_images, test_labels)\n",
        "print(f\"test_acc: {test_acc}\")"
      ]
    },
    {
      "cell_type": "markdown",
      "metadata": {
        "id": "NfDLZjPRHmx0"
      },
      "source": [
        "## Data representations for neural networks"
      ]
    },
    {
      "cell_type": "markdown",
      "metadata": {
        "id": "0CAb2uhvHmx0"
      },
      "source": [
        "### Scalars (rank-0 tensors)"
      ]
    },
    {
      "cell_type": "code",
      "execution_count": null,
      "metadata": {
        "colab": {
          "base_uri": "https://localhost:8080/"
        },
        "id": "I9ON46HwHmx0",
        "outputId": "6caa4b74-86d0-4448-8a7e-43d20f68f94b"
      },
      "outputs": [
        {
          "output_type": "execute_result",
          "data": {
            "text/plain": [
              "array(12)"
            ]
          },
          "metadata": {},
          "execution_count": 52
        }
      ],
      "source": [
        "import numpy as np\n",
        "x = np.array(12)\n",
        "x"
      ]
    },
    {
      "cell_type": "code",
      "execution_count": null,
      "metadata": {
        "colab": {
          "base_uri": "https://localhost:8080/"
        },
        "id": "PAqZ9_iBHmx0",
        "outputId": "bec76296-24b0-49eb-fa06-fa88d76dbdb1"
      },
      "outputs": [
        {
          "output_type": "execute_result",
          "data": {
            "text/plain": [
              "0"
            ]
          },
          "metadata": {},
          "execution_count": 53
        }
      ],
      "source": [
        "x.ndim"
      ]
    },
    {
      "cell_type": "markdown",
      "metadata": {
        "id": "6JGUQ8rjHmx0"
      },
      "source": [
        "### Vectors (rank-1 tensors)"
      ]
    },
    {
      "cell_type": "code",
      "execution_count": null,
      "metadata": {
        "colab": {
          "base_uri": "https://localhost:8080/"
        },
        "id": "pl-BDPOuHmx0",
        "outputId": "32ace02a-aa61-4cdb-db1b-c10c26694bd9"
      },
      "outputs": [
        {
          "output_type": "execute_result",
          "data": {
            "text/plain": [
              "array([12,  3,  6, 14,  7])"
            ]
          },
          "metadata": {},
          "execution_count": 54
        }
      ],
      "source": [
        "x = np.array([12, 3, 6, 14, 7])\n",
        "x"
      ]
    },
    {
      "cell_type": "code",
      "execution_count": null,
      "metadata": {
        "colab": {
          "base_uri": "https://localhost:8080/"
        },
        "id": "xsYRVlTBHmx0",
        "outputId": "56baf3e8-6c28-4b93-bb00-71e7e7556b48"
      },
      "outputs": [
        {
          "output_type": "execute_result",
          "data": {
            "text/plain": [
              "1"
            ]
          },
          "metadata": {},
          "execution_count": 55
        }
      ],
      "source": [
        "x.ndim"
      ]
    },
    {
      "cell_type": "markdown",
      "metadata": {
        "id": "0EcWuol0Hmx0"
      },
      "source": [
        "### Matrices (rank-2 tensors)"
      ]
    },
    {
      "cell_type": "code",
      "execution_count": null,
      "metadata": {
        "colab": {
          "base_uri": "https://localhost:8080/"
        },
        "id": "I7Y-K_06Hmx0",
        "outputId": "25ee7def-645a-4d42-b719-343c1be15a73"
      },
      "outputs": [
        {
          "output_type": "execute_result",
          "data": {
            "text/plain": [
              "2"
            ]
          },
          "metadata": {},
          "execution_count": 56
        }
      ],
      "source": [
        "x = np.array([[5, 78, 2, 34, 0],\n",
        "              [6, 79, 3, 35, 1],\n",
        "              [7, 80, 4, 36, 2]])\n",
        "x.ndim"
      ]
    },
    {
      "cell_type": "markdown",
      "metadata": {
        "id": "UqdwyuFPHmx0"
      },
      "source": [
        "### Rank-3 and higher-rank tensors"
      ]
    },
    {
      "cell_type": "code",
      "execution_count": null,
      "metadata": {
        "colab": {
          "base_uri": "https://localhost:8080/"
        },
        "id": "Rlbv4GdNHmx0",
        "outputId": "d384bfba-e37b-42ed-fd5a-010c2f58f6ce"
      },
      "outputs": [
        {
          "output_type": "execute_result",
          "data": {
            "text/plain": [
              "3"
            ]
          },
          "metadata": {},
          "execution_count": 57
        }
      ],
      "source": [
        "# Try to create a 3D tensor object. (with any values you like)\n",
        "x = np.array([[[5, 78, 2, 34, 0],\n",
        "               [6, 79, 3, 35, 1],\n",
        "               [7, 80, 4, 36, 2]],\n",
        "              [[5, 78, 2, 34, 0],\n",
        "               [6, 79, 3, 35, 1],\n",
        "               [7, 80, 4, 36, 2]],\n",
        "              [[5, 78, 2, 34, 0],\n",
        "               [6, 79, 3, 35, 1],\n",
        "               [7, 80, 4, 36, 2]]])\n",
        "x.ndim"
      ]
    },
    {
      "cell_type": "markdown",
      "metadata": {
        "id": "h7mEoMa8Hmx0"
      },
      "source": [
        "### Key attributes"
      ]
    },
    {
      "cell_type": "code",
      "execution_count": null,
      "metadata": {
        "id": "TdQxPEynHmx1"
      },
      "outputs": [],
      "source": [
        "from tensorflow.keras.datasets import mnist\n",
        "(train_images, train_labels), (test_images, test_labels) = mnist.load_data()"
      ]
    },
    {
      "cell_type": "code",
      "execution_count": null,
      "metadata": {
        "colab": {
          "base_uri": "https://localhost:8080/"
        },
        "id": "kZ6kDkIRHmx7",
        "outputId": "ce5b1cbd-a04f-4e40-9533-296e4fd7daf2"
      },
      "outputs": [
        {
          "output_type": "execute_result",
          "data": {
            "text/plain": [
              "3"
            ]
          },
          "metadata": {},
          "execution_count": 59
        }
      ],
      "source": [
        "train_images.ndim"
      ]
    },
    {
      "cell_type": "code",
      "execution_count": null,
      "metadata": {
        "colab": {
          "base_uri": "https://localhost:8080/"
        },
        "id": "2gx4PSevHmx7",
        "outputId": "33cf10ed-dcd8-4f99-9f54-1e316748bf7b"
      },
      "outputs": [
        {
          "output_type": "execute_result",
          "data": {
            "text/plain": [
              "(60000, 28, 28)"
            ]
          },
          "metadata": {},
          "execution_count": 60
        }
      ],
      "source": [
        "train_images.shape"
      ]
    },
    {
      "cell_type": "code",
      "execution_count": null,
      "metadata": {
        "colab": {
          "base_uri": "https://localhost:8080/"
        },
        "id": "dr1573wZHmx7",
        "outputId": "715d8304-8871-41fb-e6b3-bd29beba59d7"
      },
      "outputs": [
        {
          "output_type": "execute_result",
          "data": {
            "text/plain": [
              "dtype('uint8')"
            ]
          },
          "metadata": {},
          "execution_count": 61
        }
      ],
      "source": [
        "# unsigned int\n",
        "train_images.dtype"
      ]
    },
    {
      "cell_type": "markdown",
      "metadata": {
        "id": "1knyf1j4Hmx7"
      },
      "source": [
        "**Displaying the fourth digit**"
      ]
    },
    {
      "cell_type": "code",
      "execution_count": null,
      "metadata": {
        "colab": {
          "base_uri": "https://localhost:8080/",
          "height": 430
        },
        "id": "4eOXKlJxHmx7",
        "outputId": "c726c8fa-cd40-461b-e1e5-35fba222dd9f"
      },
      "outputs": [
        {
          "output_type": "display_data",
          "data": {
            "text/plain": [
              "<Figure size 640x480 with 1 Axes>"
            ],
            "image/png": "[encoded data removed]"
          },
          "metadata": {}
        }
      ],
      "source": [
        "import matplotlib.pyplot as plt\n",
        "digit = train_images[7]\n",
        "plt.imshow(digit, cmap=plt.cm.binary)\n",
        "plt.show()"
      ]
    },
    {
      "cell_type": "code",
      "execution_count": null,
      "metadata": {
        "colab": {
          "base_uri": "https://localhost:8080/"
        },
        "id": "h7Rp_xEVHmx7",
        "outputId": "eb5ade39-6db4-4bc9-d3a9-62491c66c432"
      },
      "outputs": [
        {
          "output_type": "execute_result",
          "data": {
            "text/plain": [
              "3"
            ]
          },
          "metadata": {},
          "execution_count": 63
        }
      ],
      "source": [
        "train_labels[7]"
      ]
    },
    {
      "cell_type": "code",
      "source": [
        "# Try to visualize the 1st digit from minist test dataset(1st digit data = test_images[0])\n",
        "import matplotlib.pyplot as plt\n",
        "digit = test_images[0]\n",
        "plt.imshow(digit, cmap=plt.cm.binary)\n",
        "plt.show()"
      ],
      "metadata": {
        "colab": {
          "base_uri": "https://localhost:8080/",
          "height": 430
        },
        "id": "62E4H_35SLt0",
        "outputId": "3406a385-8b08-424c-e921-e60f31fe6ab9"
      },
      "execution_count": null,
      "outputs": [
        {
          "output_type": "display_data",
          "data": {
            "text/plain": [
              "<Figure size 640x480 with 1 Axes>"
            ],
            "image/png": "[encoded data removed]"
          },
          "metadata": {}
        }
      ]
    },
    {
      "cell_type": "code",
      "source": [
        "test_labels[0]"
      ],
      "metadata": {
        "colab": {
          "base_uri": "https://localhost:8080/"
        },
        "id": "f9Hyyu9DSLkM",
        "outputId": "5d9407bf-7039-4062-f4b4-6d0a4d3ab80c"
      },
      "execution_count": null,
      "outputs": [
        {
          "output_type": "execute_result",
          "data": {
            "text/plain": [
              "7"
            ]
          },
          "metadata": {},
          "execution_count": 65
        }
      ]
    },
    {
      "cell_type": "markdown",
      "metadata": {
        "id": "_AcI1qhuHmx8"
      },
      "source": [
        "### Manipulating tensors in NumPy"
      ]
    },
    {
      "cell_type": "code",
      "execution_count": null,
      "metadata": {
        "colab": {
          "base_uri": "https://localhost:8080/"
        },
        "id": "0kjytMPNHmx8",
        "outputId": "c3e26283-3477-4244-f9a8-1ace8a808a9d"
      },
      "outputs": [
        {
          "output_type": "execute_result",
          "data": {
            "text/plain": [
              "(90, 28, 28)"
            ]
          },
          "metadata": {},
          "execution_count": 66
        }
      ],
      "source": [
        "my_slice = train_images[10:100]\n",
        "my_slice.shape"
      ]
    },
    {
      "cell_type": "code",
      "execution_count": null,
      "metadata": {
        "colab": {
          "base_uri": "https://localhost:8080/"
        },
        "id": "0mm1yVZBHmx8",
        "outputId": "8ba62b8a-9726-42e3-e5cc-c29ecf3bd26d"
      },
      "outputs": [
        {
          "output_type": "execute_result",
          "data": {
            "text/plain": [
              "(90, 28, 28)"
            ]
          },
          "metadata": {},
          "execution_count": 67
        }
      ],
      "source": [
        "my_slice = train_images[10:100, :, :]\n",
        "my_slice.shape"
      ]
    },
    {
      "cell_type": "code",
      "execution_count": null,
      "metadata": {
        "colab": {
          "base_uri": "https://localhost:8080/"
        },
        "id": "iC_Yw1yHHmx8",
        "outputId": "2eadf37f-5aea-4662-d677-f5eb53c87c21"
      },
      "outputs": [
        {
          "output_type": "execute_result",
          "data": {
            "text/plain": [
              "(90, 28, 28)"
            ]
          },
          "metadata": {},
          "execution_count": 68
        }
      ],
      "source": [
        "my_slice = train_images[10:100, 0:28, 0:28]\n",
        "my_slice.shape"
      ]
    },
    {
      "cell_type": "code",
      "execution_count": null,
      "metadata": {
        "id": "MGieJrweHmx8"
      },
      "outputs": [],
      "source": [
        "my_slice = train_images[:, 14:, 14:]"
      ]
    },
    {
      "cell_type": "code",
      "execution_count": null,
      "metadata": {
        "id": "15OWCDUzHmx8"
      },
      "outputs": [],
      "source": [
        "my_slice = train_images[:, 7:-7, 7:-7]"
      ]
    },
    {
      "cell_type": "code",
      "source": [
        "my_slice = test_images[:, 7:-7, 7:-7]"
      ],
      "metadata": {
        "id": "NpNh6RlpSdKt"
      },
      "execution_count": null,
      "outputs": []
    },
    {
      "cell_type": "code",
      "source": [
        "# Try to manipulate and visualize the 1st digit data\n",
        "digit = my_slice[0]\n",
        "plt.imshow(digit, cmap=plt.cm.binary)\n",
        "plt.show()"
      ],
      "metadata": {
        "colab": {
          "base_uri": "https://localhost:8080/",
          "height": 430
        },
        "id": "gQ0ykg7-SgcM",
        "outputId": "fe5555cd-bab8-4e59-fdec-f6280e68c284"
      },
      "execution_count": null,
      "outputs": [
        {
          "output_type": "display_data",
          "data": {
            "text/plain": [
              "<Figure size 640x480 with 1 Axes>"
            ],
            "image/png": "[encoded data removed]"
          },
          "metadata": {}
        }
      ]
    },
    {
      "cell_type": "markdown",
      "metadata": {
        "id": "vqp6urnLHmx8"
      },
      "source": [
        "### The notion of data batches"
      ]
    },
    {
      "cell_type": "code",
      "execution_count": null,
      "metadata": {
        "id": "Gs-Mwc83Hmx8"
      },
      "outputs": [],
      "source": [
        "batch = train_images[:128]"
      ]
    },
    {
      "cell_type": "code",
      "execution_count": null,
      "metadata": {
        "id": "2PE-jlkAHmx8"
      },
      "outputs": [],
      "source": [
        "batch = train_images[128:256]"
      ]
    },
    {
      "cell_type": "code",
      "execution_count": null,
      "metadata": {
        "id": "TbKZ6osRHmx8"
      },
      "outputs": [],
      "source": [
        "n = 3\n",
        "batch = train_images[128 * n:128 * (n + 1)]"
      ]
    },
    {
      "cell_type": "markdown",
      "metadata": {
        "id": "_v2OhRAdHmx8"
      },
      "source": [
        "### Real-world examples of data tensors"
      ]
    },
    {
      "cell_type": "markdown",
      "metadata": {
        "id": "0LUPzr7-Hmx8"
      },
      "source": [
        "### Vector data"
      ]
    },
    {
      "cell_type": "markdown",
      "metadata": {
        "id": "QZv3DVobHmx8"
      },
      "source": [
        "### Timeseries data or sequence data"
      ]
    },
    {
      "cell_type": "markdown",
      "metadata": {
        "id": "j0n7814SHmx8"
      },
      "source": [
        "### Image data"
      ]
    },
    {
      "cell_type": "markdown",
      "metadata": {
        "id": "bzSvkUO3Hmx8"
      },
      "source": [
        "### Video data"
      ]
    },
    {
      "cell_type": "markdown",
      "metadata": {
        "id": "kv5vfrQ8Hmx8"
      },
      "source": [
        "## The gears of neural networks: tensor operations"
      ]
    },
    {
      "cell_type": "markdown",
      "metadata": {
        "id": "i7KdYjmBHmx8"
      },
      "source": [
        "### Element-wise operations"
      ]
    },
    {
      "cell_type": "markdown",
      "source": [
        "## assert\n",
        "\n",
        "assert는 파이썬에서 프로그램의 특정 조건이 충족되었는지 확인하는 데 사용되는 키워드입니다. assert 문은 주어진 조건이 True인 경우 아무런 작업을 수행하지 않지만, 조건이 False로 평가되면 AssertionError 예외를 발생시킵니다.\n",
        "\n",
        "즉, 예외처리를 위한 선제적 작업"
      ],
      "metadata": {
        "id": "-zK6-EFKPmkb"
      }
    },
    {
      "cell_type": "code",
      "execution_count": null,
      "metadata": {
        "id": "tDcpsGk0Hmx8"
      },
      "outputs": [],
      "source": [
        "def naive_relu(x):\n",
        "    assert len(x.shape) == 2\n",
        "    x = x.copy()\n",
        "    for i in range(x.shape[0]):\n",
        "        for j in range(x.shape[1]):\n",
        "            x[i, j] = max(x[i, j], 0)\n",
        "    return x"
      ]
    },
    {
      "cell_type": "code",
      "source": [
        "import numpy as np\n",
        "\n",
        "aa = np.array([[1, 2, 3, -1], [-1, -1, -2, 0]])\n",
        "bb = naive_relu(aa)"
      ],
      "metadata": {
        "id": "LY-MRzpbJ9z1"
      },
      "execution_count": null,
      "outputs": []
    },
    {
      "cell_type": "code",
      "source": [
        "bb"
      ],
      "metadata": {
        "colab": {
          "base_uri": "https://localhost:8080/"
        },
        "id": "9xU0y-tALVDi",
        "outputId": "29799a51-7b60-46c0-c6cc-fe1b7777aad9"
      },
      "execution_count": null,
      "outputs": [
        {
          "output_type": "execute_result",
          "data": {
            "text/plain": [
              "array([[1, 2, 3, 0],\n",
              "       [0, 0, 0, 0]])"
            ]
          },
          "metadata": {},
          "execution_count": 78
        }
      ]
    },
    {
      "cell_type": "code",
      "execution_count": null,
      "metadata": {
        "id": "smEBpY68Hmx8"
      },
      "outputs": [],
      "source": [
        "def naive_add(x, y):\n",
        "    assert len(x.shape) == 2\n",
        "    assert x.shape == y.shape\n",
        "    x = x.copy()\n",
        "    for i in range(x.shape[0]):\n",
        "        for j in range(x.shape[1]):\n",
        "            x[i, j] += y[i, j]\n",
        "    return x"
      ]
    },
    {
      "cell_type": "code",
      "source": [
        "naive_add(aa,bb)"
      ],
      "metadata": {
        "colab": {
          "base_uri": "https://localhost:8080/"
        },
        "id": "wB1SZNDaLPEq",
        "outputId": "28cfd00c-9c59-422f-8bcd-0b30285ceffc"
      },
      "execution_count": null,
      "outputs": [
        {
          "output_type": "execute_result",
          "data": {
            "text/plain": [
              "array([[ 2,  4,  6, -1],\n",
              "       [-1, -1, -2,  0]])"
            ]
          },
          "metadata": {},
          "execution_count": 80
        }
      ]
    },
    {
      "cell_type": "code",
      "execution_count": null,
      "metadata": {
        "id": "4vBDWoyJHmx8",
        "colab": {
          "base_uri": "https://localhost:8080/"
        },
        "outputId": "18ccbd5a-8d4a-4a32-b93b-7050ca37165d"
      },
      "outputs": [
        {
          "output_type": "stream",
          "name": "stdout",
          "text": [
            "Took: 0.01 s\n"
          ]
        }
      ],
      "source": [
        "import time\n",
        "\n",
        "x = np.random.random((20, 100))\n",
        "y = np.random.random((20, 100))\n",
        "\n",
        "t0 = time.time()\n",
        "for _ in range(1000):\n",
        "    z = x + y\n",
        "    z = np.maximum(z, 0.)\n",
        "print(\"Took: {0:.2f} s\".format(time.time() - t0))"
      ]
    },
    {
      "cell_type": "code",
      "execution_count": null,
      "metadata": {
        "id": "4wFeLkrwHmx8",
        "colab": {
          "base_uri": "https://localhost:8080/"
        },
        "outputId": "6b160da0-f9d1-4337-a5b8-6d0d82dc30f9"
      },
      "outputs": [
        {
          "output_type": "stream",
          "name": "stdout",
          "text": [
            "Took: 2.74 s\n"
          ]
        }
      ],
      "source": [
        "## Naive version의 코드가 더 느리다.\n",
        "\n",
        "t0 = time.time()\n",
        "for _ in range(1000):\n",
        "    z = naive_add(x, y)\n",
        "    z = naive_relu(z)\n",
        "print(\"Took: {0:.2f} s\".format(time.time() - t0))"
      ]
    },
    {
      "cell_type": "markdown",
      "metadata": {
        "id": "3fwnWIJpHmx8"
      },
      "source": [
        "### Broadcasting"
      ]
    },
    {
      "cell_type": "code",
      "execution_count": null,
      "metadata": {
        "id": "OaeCEE_eHmx8"
      },
      "outputs": [],
      "source": [
        "import numpy as np\n",
        "X = np.random.random((32, 10))\n",
        "y = np.random.random((10,))"
      ]
    },
    {
      "cell_type": "code",
      "source": [
        "X.shape"
      ],
      "metadata": {
        "colab": {
          "base_uri": "https://localhost:8080/"
        },
        "id": "a1udIScHMK_w",
        "outputId": "e9098a69-fc78-4db3-83f2-3968edeca9a9"
      },
      "execution_count": null,
      "outputs": [
        {
          "output_type": "execute_result",
          "data": {
            "text/plain": [
              "(32, 10)"
            ]
          },
          "metadata": {},
          "execution_count": 84
        }
      ]
    },
    {
      "cell_type": "code",
      "source": [
        "y.shape"
      ],
      "metadata": {
        "colab": {
          "base_uri": "https://localhost:8080/"
        },
        "id": "zFWMuYZcMKxM",
        "outputId": "d337792c-4a82-4789-be7d-0431cffdb94f"
      },
      "execution_count": null,
      "outputs": [
        {
          "output_type": "execute_result",
          "data": {
            "text/plain": [
              "(10,)"
            ]
          },
          "metadata": {},
          "execution_count": 85
        }
      ]
    },
    {
      "cell_type": "code",
      "execution_count": null,
      "metadata": {
        "id": "XIg00XljHmx8"
      },
      "outputs": [],
      "source": [
        "# 행 방향 확장\n",
        "y = np.expand_dims(y, axis=0)"
      ]
    },
    {
      "cell_type": "code",
      "source": [
        "y.shape"
      ],
      "metadata": {
        "colab": {
          "base_uri": "https://localhost:8080/"
        },
        "id": "LT30eAIoMSCi",
        "outputId": "a26398f5-5026-4566-ad2a-1afa9a91c691"
      },
      "execution_count": null,
      "outputs": [
        {
          "output_type": "execute_result",
          "data": {
            "text/plain": [
              "(1, 10)"
            ]
          },
          "metadata": {},
          "execution_count": 87
        }
      ]
    },
    {
      "cell_type": "code",
      "source": [
        "## np.exapnd_dims() 설명\n",
        "import numpy as np\n",
        "\n",
        "a = np.array([1, 2, 3, 4, 5])  # 1차원 배열\n",
        "\n",
        "# 1차원 배열을 2차원으로 확장\n",
        "b = np.expand_dims(a, axis=0)  # 행 방향으로 확장\n",
        "## b.shape는 (1, 5)가 됩니다.\n",
        "\n",
        "c = np.expand_dims(a, axis=1)  # 열 방향으로 확장\n",
        "## c.shape는 (5, 1)이 됩니다."
      ],
      "metadata": {
        "id": "6HI0dJGuL7I_"
      },
      "execution_count": null,
      "outputs": []
    },
    {
      "cell_type": "code",
      "execution_count": null,
      "metadata": {
        "id": "noZYinchHmx8"
      },
      "outputs": [],
      "source": [
        "Y = np.concatenate([y] * 32, axis=0)"
      ]
    },
    {
      "cell_type": "code",
      "source": [
        "Y.shape"
      ],
      "metadata": {
        "colab": {
          "base_uri": "https://localhost:8080/"
        },
        "id": "LcuOTBJ1Mshi",
        "outputId": "f2a3122f-6c95-43dd-c1a5-c42f5e6a8811"
      },
      "execution_count": null,
      "outputs": [
        {
          "output_type": "execute_result",
          "data": {
            "text/plain": [
              "(32, 10)"
            ]
          },
          "metadata": {},
          "execution_count": 90
        }
      ]
    },
    {
      "cell_type": "code",
      "execution_count": null,
      "metadata": {
        "id": "RFIXshbBHmx8"
      },
      "outputs": [],
      "source": [
        "def naive_add_matrix_and_vector(x, y):\n",
        "    assert len(x.shape) == 2\n",
        "    assert len(y.shape) == 1\n",
        "    assert x.shape[1] == y.shape[0]\n",
        "    x = x.copy()\n",
        "    for i in range(x.shape[0]):\n",
        "        for j in range(x.shape[1]):\n",
        "            x[i, j] += y[j]\n",
        "    return x"
      ]
    },
    {
      "cell_type": "code",
      "execution_count": null,
      "metadata": {
        "id": "w22cNEApHmx9"
      },
      "outputs": [],
      "source": [
        "import numpy as np\n",
        "x = np.random.random((64, 3, 32, 10))\n",
        "y = np.random.random((32, 10))\n",
        "\n",
        "# np.maximum(x, y)은 높은 차원을 가지고 있는 배열의 차원으로 브로드캐스팅 된다.\n",
        "z = np.maximum(x, y)"
      ]
    },
    {
      "cell_type": "code",
      "source": [
        "z.shape"
      ],
      "metadata": {
        "colab": {
          "base_uri": "https://localhost:8080/"
        },
        "id": "FFFTzUJ4OX_Y",
        "outputId": "14602d01-150e-4f75-f86d-fd5d2d08b2fb"
      },
      "execution_count": null,
      "outputs": [
        {
          "output_type": "execute_result",
          "data": {
            "text/plain": [
              "(64, 3, 32, 10)"
            ]
          },
          "metadata": {},
          "execution_count": 109
        }
      ]
    },
    {
      "cell_type": "markdown",
      "metadata": {
        "id": "kiv1Qi6qHmx9"
      },
      "source": [
        "### Tensor product"
      ]
    },
    {
      "cell_type": "code",
      "execution_count": null,
      "metadata": {
        "id": "SNKYkhp9Hmx9"
      },
      "outputs": [],
      "source": [
        "x = np.random.random((32,))\n",
        "y = np.random.random((32,))\n",
        "z = np.dot(x, y)"
      ]
    },
    {
      "cell_type": "code",
      "source": [
        "x.shape"
      ],
      "metadata": {
        "colab": {
          "base_uri": "https://localhost:8080/"
        },
        "id": "Vek9S7t5M1qr",
        "outputId": "d1b0a852-d9a9-48fc-97b6-1113cd07b988"
      },
      "execution_count": null,
      "outputs": [
        {
          "output_type": "execute_result",
          "data": {
            "text/plain": [
              "(32,)"
            ]
          },
          "metadata": {},
          "execution_count": 111
        }
      ]
    },
    {
      "cell_type": "code",
      "execution_count": null,
      "metadata": {
        "id": "PLOQONWCHmx9"
      },
      "outputs": [],
      "source": [
        "def naive_vector_dot(x, y):\n",
        "    assert len(x.shape) == 1\n",
        "    assert len(y.shape) == 1\n",
        "    assert x.shape[0] == y.shape[0]\n",
        "    z = 0.\n",
        "    for i in range(x.shape[0]):\n",
        "        z += x[i] * y[i]\n",
        "    return z"
      ]
    },
    {
      "cell_type": "code",
      "execution_count": null,
      "metadata": {
        "id": "Y7pj7mPmHmx9"
      },
      "outputs": [],
      "source": [
        "def naive_matrix_vector_dot(x, y):\n",
        "    assert len(x.shape) == 2\n",
        "    assert len(y.shape) == 1\n",
        "    assert x.shape[1] == y.shape[0]\n",
        "    z = np.zeros(x.shape[0])\n",
        "    for i in range(x.shape[0]):\n",
        "        for j in range(x.shape[1]):\n",
        "            z[i] += x[i, j] * y[j]\n",
        "    return z"
      ]
    },
    {
      "cell_type": "code",
      "execution_count": null,
      "metadata": {
        "id": "lD4mj32OHmx9"
      },
      "outputs": [],
      "source": [
        "def naive_matrix_vector_dot(x, y):\n",
        "    z = np.zeros(x.shape[0])\n",
        "    for i in range(x.shape[0]):\n",
        "        z[i] = naive_vector_dot(x[i, :], y)\n",
        "    return z"
      ]
    },
    {
      "cell_type": "code",
      "execution_count": null,
      "metadata": {
        "id": "KdPOiMr3Hmx9"
      },
      "outputs": [],
      "source": [
        "def naive_matrix_dot(x, y):\n",
        "    assert len(x.shape) == 2\n",
        "    assert len(y.shape) == 2\n",
        "    assert x.shape[1] == y.shape[0]\n",
        "    z = np.zeros((x.shape[0], y.shape[1]))\n",
        "    for i in range(x.shape[0]):\n",
        "        for j in range(y.shape[1]):\n",
        "            row_x = x[i, :]\n",
        "            column_y = y[:, j]\n",
        "            z[i, j] = naive_vector_dot(row_x, column_y)\n",
        "    return z"
      ]
    },
    {
      "cell_type": "markdown",
      "metadata": {
        "id": "3C5D6S8RHmx9"
      },
      "source": [
        "### Tensor reshaping"
      ]
    },
    {
      "cell_type": "code",
      "execution_count": null,
      "metadata": {
        "id": "X9NM8QJbHmx9"
      },
      "outputs": [],
      "source": [
        "train_images = train_images.reshape((60000, 28 * 28))"
      ]
    },
    {
      "cell_type": "code",
      "execution_count": null,
      "metadata": {
        "id": "vIHjDm0sHmx9",
        "colab": {
          "base_uri": "https://localhost:8080/"
        },
        "outputId": "97e102ed-eef4-4c77-c5b3-b5b3c8efbf8c"
      },
      "outputs": [
        {
          "output_type": "execute_result",
          "data": {
            "text/plain": [
              "(3, 2)"
            ]
          },
          "metadata": {},
          "execution_count": 117
        }
      ],
      "source": [
        "x = np.array([[0., 1.],\n",
        "             [2., 3.],\n",
        "             [4., 5.]])\n",
        "x.shape"
      ]
    },
    {
      "cell_type": "code",
      "execution_count": null,
      "metadata": {
        "id": "YcygyKFbHmx9",
        "colab": {
          "base_uri": "https://localhost:8080/"
        },
        "outputId": "ca078620-bba9-4ec7-9352-569be41fe57e"
      },
      "outputs": [
        {
          "output_type": "execute_result",
          "data": {
            "text/plain": [
              "array([[0.],\n",
              "       [1.],\n",
              "       [2.],\n",
              "       [3.],\n",
              "       [4.],\n",
              "       [5.]])"
            ]
          },
          "metadata": {},
          "execution_count": 118
        }
      ],
      "source": [
        "x = x.reshape((6, 1))\n",
        "x"
      ]
    },
    {
      "cell_type": "code",
      "execution_count": null,
      "metadata": {
        "id": "Qe16IkJ8Hmx9",
        "colab": {
          "base_uri": "https://localhost:8080/"
        },
        "outputId": "a48669b0-4ae4-4094-9088-9e145ae218e2"
      },
      "outputs": [
        {
          "output_type": "execute_result",
          "data": {
            "text/plain": [
              "(20, 300)"
            ]
          },
          "metadata": {},
          "execution_count": 119
        }
      ],
      "source": [
        "# 전치\n",
        "x = np.zeros((300, 20))\n",
        "x = np.transpose(x)\n",
        "x.shape"
      ]
    },
    {
      "cell_type": "markdown",
      "metadata": {
        "id": "C1ujKY5KHmx_"
      },
      "source": [
        "### Geometric interpretation of tensor operations"
      ]
    },
    {
      "cell_type": "markdown",
      "metadata": {
        "id": "EE-YxwJGHmx_"
      },
      "source": [
        "### A geometric interpretation of deep learning"
      ]
    },
    {
      "cell_type": "markdown",
      "metadata": {
        "id": "A-iY-cmTHmx_"
      },
      "source": [
        "## The engine of neural networks: gradient-based optimization"
      ]
    },
    {
      "cell_type": "markdown",
      "metadata": {
        "id": "SbQQNSVGHmx_"
      },
      "source": [
        "### What's a derivative?"
      ]
    },
    {
      "cell_type": "markdown",
      "metadata": {
        "id": "N_mBzI-QHmx_"
      },
      "source": [
        "### Derivative of a tensor operation: the gradient"
      ]
    },
    {
      "cell_type": "markdown",
      "metadata": {
        "id": "Lly4TNCZHmx_"
      },
      "source": [
        "### Stochastic gradient descent"
      ]
    },
    {
      "cell_type": "markdown",
      "metadata": {
        "id": "IP5_L8OAHmx_"
      },
      "source": [
        "### Chaining derivatives: The Backpropagation algorithm"
      ]
    },
    {
      "cell_type": "markdown",
      "metadata": {
        "id": "eTKwWRyNHmx_"
      },
      "source": [
        "#### The chain rule"
      ]
    },
    {
      "cell_type": "markdown",
      "metadata": {
        "id": "KytH77kLHmx_"
      },
      "source": [
        "#### Automatic differentiation with computation graphs"
      ]
    },
    {
      "cell_type": "markdown",
      "metadata": {
        "id": "aYio6dVLHmx_"
      },
      "source": [
        "#### The gradient tape in TensorFlow"
      ]
    },
    {
      "cell_type": "code",
      "execution_count": null,
      "metadata": {
        "id": "Muiz2WHYHmx_",
        "colab": {
          "base_uri": "https://localhost:8080/"
        },
        "outputId": "bc658f77-9f8f-4f0f-da90-b5c3c737e847"
      },
      "outputs": [
        {
          "output_type": "execute_result",
          "data": {
            "text/plain": [
              "<tf.Tensor: shape=(), dtype=float32, numpy=2.0>"
            ]
          },
          "metadata": {},
          "execution_count": 126
        }
      ],
      "source": [
        "import tensorflow as tf\n",
        "\n",
        "# 변수 타입 선정(Float)\n",
        "x = tf.Variable(0.)\n",
        "with tf.GradientTape() as tape:\n",
        "    y = 2 * x + 3\n",
        "grad_of_y_wrt_x = tape.gradient(y, x)\n",
        "grad_of_y_wrt_x\n",
        "\n",
        "\n",
        "# '''\n",
        "# <TensorFlow를 사용하여 변수 x에 대한 함수 y = 2 * x + 3의 도함수를 계산하는 예제>\n",
        "\n",
        "# tf.Variable(0.): TensorFlow에서 float 타입의 변수를 생성, 초기값은 0. 이다. 경사하강법(Gradient Descent)을 통해 업데이트될 예정.\n",
        "# tf.GradientTape() as tape: TensorFlow의 자동 미분 기능을 사용하기 위해 tf.GradientTape을 정의합니다. 이를 통해 y에 대한 x의 도함수를 계산.\n",
        "\n",
        "# with tf.GradientTape() as tape: GradientTape 컨텍스트 내에서 수행되는 모든 연산이 테이프에 기록된다는 것을 의미합니다.\n",
        "# y = 2 * x + 3: 함수 y = 2 * x + 3을 정의합니다. 이는 x의 일차함수입니다.\n",
        "\n",
        "# grad_of_y_wrt_x = tape.gradient(y, x): tape.gradient() 메서드를 사용하여 y를 x에 대해 미분한 값을 계산합니다. 연산 그래프에 기록된 모든 연산에 대해 y의 각 변수에 대한 편미분을 계산.\n",
        "# 따라서 grad_of_y_wrt_x에는 y를 x에 대해 미분한 값이 저장된다. 이 경우에는 2가 됨.\n",
        "# '''"
      ]
    },
    {
      "cell_type": "code",
      "source": [
        "X=tf.Variable(2.)\n",
        "y=tf.Variable(1.)\n",
        "with tf.GradientTape() as tape:\n",
        "  z=X*X*y + X*y + 3*y\n",
        "grad_of_z_wrt_Xy = tape.gradient(z, [X,y])\n",
        "\n",
        "# x에 대한 미분, y에 대한 미분에 대한 대입값이 다르게 나오내\n",
        "grad_of_z_wrt_Xy"
      ],
      "metadata": {
        "colab": {
          "base_uri": "https://localhost:8080/"
        },
        "id": "YO5xD1A5SKgh",
        "outputId": "75971aae-f986-45e3-f53f-6ab4a3699347"
      },
      "execution_count": null,
      "outputs": [
        {
          "output_type": "execute_result",
          "data": {
            "text/plain": [
              "[<tf.Tensor: shape=(), dtype=float32, numpy=5.0>,\n",
              " <tf.Tensor: shape=(), dtype=float32, numpy=9.0>]"
            ]
          },
          "metadata": {},
          "execution_count": 133
        }
      ]
    },
    {
      "cell_type": "code",
      "source": [
        "x=tf.constant(np.array([1.,4.,3.]).reshape(1,3),dtype=tf.float32)\n",
        "W=tf.Variable(tf.random.uniform((3,2)),dtype=tf.float32)\n",
        "b=tf.Variable(tf.zeros((2,)),dtype=tf.float32)\n",
        "\n",
        "with tf.GradientTape() as tape:\n",
        "  z=tf.matmul(x, W)+b\n",
        "grad_of_z_wrt_Wb = tape.gradient(z, [W,b])\n",
        "grad_of_z_wrt_Wb"
      ],
      "metadata": {
        "colab": {
          "base_uri": "https://localhost:8080/"
        },
        "id": "6XGcf-igSKYO",
        "outputId": "a159552a-6ad1-4bb5-fa87-71e5373657bb"
      },
      "execution_count": null,
      "outputs": [
        {
          "output_type": "execute_result",
          "data": {
            "text/plain": [
              "[<tf.Tensor: shape=(3, 2), dtype=float32, numpy=\n",
              " array([[1., 1.],\n",
              "        [4., 4.],\n",
              "        [3., 3.]], dtype=float32)>,\n",
              " <tf.Tensor: shape=(2,), dtype=float32, numpy=array([1., 1.], dtype=float32)>]"
            ]
          },
          "metadata": {},
          "execution_count": 132
        }
      ]
    },
    {
      "cell_type": "code",
      "execution_count": null,
      "metadata": {
        "id": "uKXjbd77Hmx_",
        "colab": {
          "base_uri": "https://localhost:8080/"
        },
        "outputId": "40a3c9d4-8796-4b70-9373-038a7595e092"
      },
      "outputs": [
        {
          "output_type": "execute_result",
          "data": {
            "text/plain": [
              "<tf.Tensor: shape=(2, 2), dtype=float32, numpy=\n",
              "array([[2., 2.],\n",
              "       [2., 2.]], dtype=float32)>"
            ]
          },
          "metadata": {},
          "execution_count": 127
        }
      ],
      "source": [
        "x = tf.Variable(tf.random.uniform((2, 2)))\n",
        "with tf.GradientTape() as tape:\n",
        "    y = 2 * x + 3\n",
        "grad_of_y_wrt_x = tape.gradient(y, x)\n",
        "grad_of_y_wrt_x"
      ]
    },
    {
      "cell_type": "code",
      "execution_count": null,
      "metadata": {
        "id": "aY2T4x5QHmx_",
        "colab": {
          "base_uri": "https://localhost:8080/"
        },
        "outputId": "2be0e249-7528-4066-814b-aec3d4a3907e"
      },
      "outputs": [
        {
          "output_type": "execute_result",
          "data": {
            "text/plain": [
              "[<tf.Tensor: shape=(2, 2), dtype=float32, numpy=\n",
              " array([[1.4812895, 1.4812895],\n",
              "        [0.8259121, 0.8259121]], dtype=float32)>,\n",
              " <tf.Tensor: shape=(2,), dtype=float32, numpy=array([2., 2.], dtype=float32)>]"
            ]
          },
          "metadata": {},
          "execution_count": 128
        }
      ],
      "source": [
        "W = tf.Variable(tf.random.uniform((2, 2)))\n",
        "b = tf.Variable(tf.zeros((2,)))\n",
        "x = tf.random.uniform((2, 2))\n",
        "with tf.GradientTape() as tape:\n",
        "    y = tf.matmul(x, W) + b\n",
        "grad_of_y_wrt_W_and_b = tape.gradient(y, [W, b])\n",
        "grad_of_y_wrt_W_and_b"
      ]
    },
    {
      "cell_type": "markdown",
      "metadata": {
        "id": "10LD2WpzHmx_"
      },
      "source": [
        "## Looking back at our first example"
      ]
    },
    {
      "cell_type": "code",
      "execution_count": null,
      "metadata": {
        "id": "SNIF27ARHmx_"
      },
      "outputs": [],
      "source": [
        "# Train data flatten\n",
        "\n",
        "(train_images, train_labels), (test_images, test_labels) = mnist.load_data()\n",
        "train_images = train_images.reshape((60000, 28 * 28))\n",
        "train_images = train_images.astype(\"float32\") / 255\n",
        "test_images = test_images.reshape((10000, 28 * 28))\n",
        "test_images = test_images.astype(\"float32\") / 255"
      ]
    },
    {
      "cell_type": "code",
      "execution_count": null,
      "metadata": {
        "id": "8Sa-bVKFHmx_"
      },
      "outputs": [],
      "source": [
        "model = keras.Sequential([\n",
        "    layers.Dense(512, activation=\"relu\"),\n",
        "    layers.Dense(10, activation=\"softmax\")\n",
        "])"
      ]
    },
    {
      "cell_type": "code",
      "execution_count": null,
      "metadata": {
        "id": "99yL_YmUHmx_"
      },
      "outputs": [],
      "source": [
        "# 옵티마이저에 따라 성능이 많이 달라짐. 여기선 rmsprop이 best\n",
        "model.compile(optimizer=\"rmsprop\",\n",
        "              loss=\"sparse_categorical_crossentropy\",\n",
        "              metrics=[\"accuracy\"])"
      ]
    },
    {
      "cell_type": "code",
      "execution_count": null,
      "metadata": {
        "id": "I8_uj67HHmx_",
        "colab": {
          "base_uri": "https://localhost:8080/"
        },
        "outputId": "f80397a0-d0d0-4e93-c554-fd034ded2d5b"
      },
      "outputs": [
        {
          "output_type": "stream",
          "name": "stdout",
          "text": [
            "Epoch 1/5\n",
            "469/469 [==============================] - 4s 8ms/step - loss: 0.2660 - accuracy: 0.9237\n",
            "Epoch 2/5\n",
            "469/469 [==============================] - 5s 10ms/step - loss: 0.1079 - accuracy: 0.9679\n",
            "Epoch 3/5\n",
            "469/469 [==============================] - 5s 11ms/step - loss: 0.0704 - accuracy: 0.9793\n",
            "Epoch 4/5\n",
            "469/469 [==============================] - 7s 14ms/step - loss: 0.0512 - accuracy: 0.9844\n",
            "Epoch 5/5\n",
            "469/469 [==============================] - 4s 8ms/step - loss: 0.0374 - accuracy: 0.9888\n"
          ]
        },
        {
          "output_type": "execute_result",
          "data": {
            "text/plain": [
              "<keras.src.callbacks.History at 0x7b6409ae9690>"
            ]
          },
          "metadata": {},
          "execution_count": 157
        }
      ],
      "source": [
        "model.fit(train_images, train_labels, epochs=5, batch_size=128)"
      ]
    },
    {
      "cell_type": "code",
      "source": [
        "test_digits = test_images[:10]"
      ],
      "metadata": {
        "id": "baKj6OxTVjYh"
      },
      "execution_count": null,
      "outputs": []
    },
    {
      "cell_type": "code",
      "source": [
        "y_pred=model.predict(test_digits)"
      ],
      "metadata": {
        "colab": {
          "base_uri": "https://localhost:8080/"
        },
        "id": "61qDeAO2VjVy",
        "outputId": "697e7ae4-f422-487e-b3a7-d00ad6a50736"
      },
      "execution_count": null,
      "outputs": [
        {
          "output_type": "stream",
          "name": "stdout",
          "text": [
            "1/1 [==============================] - 0s 29ms/step\n"
          ]
        }
      ]
    },
    {
      "cell_type": "code",
      "source": [
        "# (중요)확률로 나타난 예측을 클래스 레이블로 변환\n",
        "y_pred_classes = np.argmax(y_pred, axis=1)"
      ],
      "metadata": {
        "id": "71XNx-E9W7Xv"
      },
      "execution_count": null,
      "outputs": []
    },
    {
      "cell_type": "code",
      "source": [
        "from sklearn.metrics import accuracy_score\n",
        "\n",
        "acc = accuracy_score(y_pred_classes, test_labels[:10])\n",
        "acc"
      ],
      "metadata": {
        "colab": {
          "base_uri": "https://localhost:8080/"
        },
        "id": "MhL7w2QoWfPE",
        "outputId": "e01e2364-0344-40fc-f0ca-ebbe184890f4"
      },
      "execution_count": null,
      "outputs": [
        {
          "output_type": "execute_result",
          "data": {
            "text/plain": [
              "1.0"
            ]
          },
          "metadata": {},
          "execution_count": 159
        }
      ]
    },
    {
      "cell_type": "markdown",
      "metadata": {
        "id": "5LAijM3QHmx_"
      },
      "source": [
        "### Reimplementing our first example from scratch in TensorFlow"
      ]
    },
    {
      "cell_type": "markdown",
      "metadata": {
        "id": "ejqStPjcHmx_"
      },
      "source": [
        "#### A simple Dense class"
      ]
    },
    {
      "cell_type": "code",
      "execution_count": null,
      "metadata": {
        "id": "vKFzwhejHmx_"
      },
      "outputs": [],
      "source": [
        "import tensorflow as tf\n",
        "\n",
        "class NaiveDense:\n",
        "    def __init__(self, input_size, output_size, activation):\n",
        "        self.activation = activation\n",
        "\n",
        "        w_shape = (input_size, output_size)\n",
        "        w_initial_value = tf.random.uniform(w_shape, minval=0, maxval=1e-1)\n",
        "        self.W = tf.Variable(w_initial_value)\n",
        "\n",
        "        b_shape = (output_size,)\n",
        "        b_initial_value = tf.zeros(b_shape)\n",
        "        self.b = tf.Variable(b_initial_value)\n",
        "\n",
        "    def __call__(self, inputs):\n",
        "        return self.activation(tf.matmul(inputs, self.W) + self.b)\n",
        "\n",
        "    @property\n",
        "    def weights(self):\n",
        "        return [self.W, self.b]"
      ]
    },
    {
      "cell_type": "markdown",
      "metadata": {
        "id": "VewKWp4cHmyA"
      },
      "source": [
        "#### A simple Sequential class"
      ]
    },
    {
      "cell_type": "code",
      "execution_count": null,
      "metadata": {
        "id": "Y9Uv7HHUHmyA"
      },
      "outputs": [],
      "source": [
        "class NaiveSequential:\n",
        "    def __init__(self, layers):\n",
        "        self.layers = layers\n",
        "\n",
        "    def __call__(self, inputs):\n",
        "        x = inputs\n",
        "        for layer in self.layers:\n",
        "           x = layer(x)\n",
        "        return x\n",
        "\n",
        "    @property\n",
        "    def weights(self):\n",
        "       weights = []\n",
        "       for layer in self.layers:\n",
        "           weights += layer.weights\n",
        "       return weights"
      ]
    },
    {
      "cell_type": "code",
      "execution_count": null,
      "metadata": {
        "id": "rj8U1wiHHmyA"
      },
      "outputs": [],
      "source": [
        "model = NaiveSequential([\n",
        "    NaiveDense(input_size=28 * 28, output_size=512, activation=tf.nn.relu),\n",
        "    NaiveDense(input_size=512, output_size=10, activation=tf.nn.softmax)\n",
        "])\n",
        "assert len(model.weights) == 4"
      ]
    },
    {
      "cell_type": "markdown",
      "metadata": {
        "id": "ZHjg4uGwHmyA"
      },
      "source": [
        "#### A batch generator"
      ]
    },
    {
      "cell_type": "code",
      "execution_count": null,
      "metadata": {
        "id": "auAey5uLHmyA"
      },
      "outputs": [],
      "source": [
        "import math\n",
        "\n",
        "class BatchGenerator:\n",
        "    def __init__(self, images, labels, batch_size=128):\n",
        "        assert len(images) == len(labels)\n",
        "        self.index = 0\n",
        "        self.images = images\n",
        "        self.labels = labels\n",
        "        self.batch_size = batch_size\n",
        "        self.num_batches = math.ceil(len(images) / batch_size)\n",
        "\n",
        "    def next(self):\n",
        "        images = self.images[self.index : self.index + self.batch_size]\n",
        "        labels = self.labels[self.index : self.index + self.batch_size]\n",
        "        self.index += self.batch_size\n",
        "        return images, labels"
      ]
    },
    {
      "cell_type": "markdown",
      "metadata": {
        "id": "TDu4W-N3HmyA"
      },
      "source": [
        "### Running one training step"
      ]
    },
    {
      "cell_type": "code",
      "execution_count": null,
      "metadata": {
        "id": "U7TJ5nLwHmyA"
      },
      "outputs": [],
      "source": [
        "def one_training_step(model, images_batch, labels_batch):\n",
        "    with tf.GradientTape() as tape:\n",
        "        predictions = model(images_batch)\n",
        "        per_sample_losses = tf.keras.losses.sparse_categorical_crossentropy(\n",
        "            labels_batch, predictions)\n",
        "        average_loss = tf.reduce_mean(per_sample_losses)\n",
        "    gradients = tape.gradient(average_loss, model.weights)\n",
        "    update_weights(gradients, model.weights)\n",
        "    return average_loss"
      ]
    },
    {
      "cell_type": "code",
      "execution_count": null,
      "metadata": {
        "id": "_aTlNAJkHmyA"
      },
      "outputs": [],
      "source": [
        "learning_rate = 1e-3\n",
        "\n",
        "def update_weights(gradients, weights):\n",
        "    for g, w in zip(gradients, weights):\n",
        "        w.assign_sub(g * learning_rate)"
      ]
    },
    {
      "cell_type": "code",
      "execution_count": null,
      "metadata": {
        "id": "MWbd3MuZHmyA"
      },
      "outputs": [],
      "source": [
        "from tensorflow.keras import optimizers\n",
        "\n",
        "optimizer = optimizers.SGD(learning_rate=1e-3)\n",
        "\n",
        "def update_weights(gradients, weights):\n",
        "    optimizer.apply_gradients(zip(gradients, weights))"
      ]
    },
    {
      "cell_type": "markdown",
      "metadata": {
        "id": "Bfju6ZesHmyA"
      },
      "source": [
        "### The full training loop"
      ]
    },
    {
      "cell_type": "code",
      "execution_count": null,
      "metadata": {
        "id": "v2ZArcuaHmyA"
      },
      "outputs": [],
      "source": [
        "def fit(model, images, labels, epochs, batch_size=128):\n",
        "    for epoch_counter in range(epochs):\n",
        "        print(f\"Epoch {epoch_counter}\")\n",
        "        batch_generator = BatchGenerator(images, labels)\n",
        "        for batch_counter in range(batch_generator.num_batches):\n",
        "            images_batch, labels_batch = batch_generator.next()\n",
        "            loss = one_training_step(model, images_batch, labels_batch)\n",
        "            if batch_counter % 100 == 0:\n",
        "                print(f\"loss at batch {batch_counter}: {loss:.2f}\")"
      ]
    },
    {
      "cell_type": "code",
      "execution_count": null,
      "metadata": {
        "id": "MXhfpFJNHmyA",
        "colab": {
          "base_uri": "https://localhost:8080/"
        },
        "outputId": "ddd8ae4a-68d4-412a-b35f-85f287c7b0c3"
      },
      "outputs": [
        {
          "output_type": "stream",
          "name": "stdout",
          "text": [
            "Epoch 0\n",
            "loss at batch 0: 4.38\n",
            "loss at batch 100: 2.26\n",
            "loss at batch 200: 2.22\n",
            "loss at batch 300: 2.09\n",
            "loss at batch 400: 2.21\n",
            "Epoch 1\n",
            "loss at batch 0: 1.93\n",
            "loss at batch 100: 1.91\n",
            "loss at batch 200: 1.85\n",
            "loss at batch 300: 1.73\n",
            "loss at batch 400: 1.83\n",
            "Epoch 2\n",
            "loss at batch 0: 1.61\n",
            "loss at batch 100: 1.61\n",
            "loss at batch 200: 1.53\n",
            "loss at batch 300: 1.44\n",
            "loss at batch 400: 1.52\n",
            "Epoch 3\n",
            "loss at batch 0: 1.36\n",
            "loss at batch 100: 1.37\n",
            "loss at batch 200: 1.26\n",
            "loss at batch 300: 1.23\n",
            "loss at batch 400: 1.29\n",
            "Epoch 4\n",
            "loss at batch 0: 1.15\n",
            "loss at batch 100: 1.18\n",
            "loss at batch 200: 1.06\n",
            "loss at batch 300: 1.06\n",
            "loss at batch 400: 1.12\n",
            "Epoch 5\n",
            "loss at batch 0: 1.00\n",
            "loss at batch 100: 1.03\n",
            "loss at batch 200: 0.92\n",
            "loss at batch 300: 0.94\n",
            "loss at batch 400: 1.00\n",
            "Epoch 6\n",
            "loss at batch 0: 0.89\n",
            "loss at batch 100: 0.92\n",
            "loss at batch 200: 0.81\n",
            "loss at batch 300: 0.84\n",
            "loss at batch 400: 0.91\n",
            "Epoch 7\n",
            "loss at batch 0: 0.81\n",
            "loss at batch 100: 0.84\n",
            "loss at batch 200: 0.73\n",
            "loss at batch 300: 0.77\n",
            "loss at batch 400: 0.84\n",
            "Epoch 8\n",
            "loss at batch 0: 0.74\n",
            "loss at batch 100: 0.77\n",
            "loss at batch 200: 0.66\n",
            "loss at batch 300: 0.72\n",
            "loss at batch 400: 0.79\n",
            "Epoch 9\n",
            "loss at batch 0: 0.69\n",
            "loss at batch 100: 0.71\n",
            "loss at batch 200: 0.61\n",
            "loss at batch 300: 0.67\n",
            "loss at batch 400: 0.75\n"
          ]
        }
      ],
      "source": [
        "from tensorflow.keras.datasets import mnist\n",
        "(train_images, train_labels), (test_images, test_labels) = mnist.load_data()\n",
        "\n",
        "train_images = train_images.reshape((60000, 28 * 28))\n",
        "train_images = train_images.astype(\"float32\") / 255\n",
        "test_images = test_images.reshape((10000, 28 * 28))\n",
        "test_images = test_images.astype(\"float32\") / 255\n",
        "\n",
        "fit(model, train_images, train_labels, epochs=10, batch_size=128)"
      ]
    },
    {
      "cell_type": "markdown",
      "metadata": {
        "id": "lgWUSSS-HmyA"
      },
      "source": [
        "### Evaluating the model"
      ]
    },
    {
      "cell_type": "code",
      "source": [
        "model.weights"
      ],
      "metadata": {
        "colab": {
          "base_uri": "https://localhost:8080/"
        },
        "id": "O4ki2VG2ZR_i",
        "outputId": "d03c7a76-34de-45df-97d0-1a562e8020e1"
      },
      "execution_count": null,
      "outputs": [
        {
          "output_type": "execute_result",
          "data": {
            "text/plain": [
              "[<tf.Variable 'Variable:0' shape=(784, 512) dtype=float32, numpy=\n",
              " array([[0.00579476, 0.09324852, 0.02909958, ..., 0.04661202, 0.01196997,\n",
              "         0.00186543],\n",
              "        [0.06643344, 0.08246022, 0.01949145, ..., 0.02951961, 0.08745082,\n",
              "         0.04375849],\n",
              "        [0.01784479, 0.04877069, 0.01439898, ..., 0.08962246, 0.0562616 ,\n",
              "         0.08688786],\n",
              "        ...,\n",
              "        [0.08303113, 0.08552562, 0.08715864, ..., 0.0111804 , 0.03505161,\n",
              "         0.01589912],\n",
              "        [0.07320645, 0.06733682, 0.02694318, ..., 0.0260865 , 0.08584964,\n",
              "         0.0528554 ],\n",
              "        [0.01950457, 0.00421224, 0.01750627, ..., 0.00220265, 0.07028607,\n",
              "         0.03464035]], dtype=float32)>,\n",
              " <tf.Variable 'Variable:0' shape=(512,) dtype=float32, numpy=\n",
              " array([-5.28444257e-03, -1.90435583e-03, -2.80333945e-04,  3.60930478e-03,\n",
              "        -8.41048919e-03, -1.76196394e-03, -4.51967726e-03, -4.38238587e-03,\n",
              "         4.21627378e-03,  7.39471614e-03,  2.87239137e-03, -8.65020137e-03,\n",
              "        -3.05542164e-03,  1.95595762e-03, -4.25604498e-03,  5.14165405e-03,\n",
              "        -8.86130519e-03,  7.53063709e-04, -8.20848159e-03, -1.18914265e-02,\n",
              "        -3.34050739e-03, -2.36501335e-03, -5.21334959e-03, -4.02232492e-03,\n",
              "        -4.51335870e-03, -4.47672652e-03, -1.82354372e-04, -3.62262176e-03,\n",
              "         8.12674779e-03, -7.88278645e-04,  5.57083450e-03,  2.97397375e-03,\n",
              "         8.50292575e-03,  9.69774555e-04,  5.90405325e-05, -2.82975240e-03,\n",
              "        -8.00845493e-03,  6.25352003e-03, -7.34335231e-03,  3.70851601e-03,\n",
              "         7.79378787e-03, -5.87710785e-03, -1.47097034e-03, -8.62445042e-04,\n",
              "         2.24405038e-03,  2.22022086e-03, -4.55481792e-03,  1.14380743e-03,\n",
              "         1.79899228e-03,  1.03536877e-03, -4.84487071e-04, -3.74672236e-03,\n",
              "         9.17645544e-03, -8.35826155e-03,  2.49429024e-03, -5.58374403e-03,\n",
              "         3.37503548e-03,  4.17710282e-03, -8.39738082e-03, -5.19289216e-03,\n",
              "         4.14779456e-03,  1.08514749e-03, -6.84183277e-03, -2.06793891e-03,\n",
              "         2.20222701e-03, -2.09889520e-04,  2.90129730e-03, -1.96385360e-03,\n",
              "         3.77520267e-03, -3.21947178e-03,  9.41689359e-04, -6.46528229e-03,\n",
              "         1.88916980e-03,  3.92034883e-04, -5.11563057e-03, -1.86483012e-04,\n",
              "         4.33915248e-03, -3.01056704e-03, -4.67928033e-03,  6.76074764e-03,\n",
              "         1.52617251e-03,  9.33861639e-03,  5.38862124e-03,  3.10542085e-03,\n",
              "         5.71874995e-03, -4.71555803e-04, -1.37874216e-03, -2.68421974e-03,\n",
              "        -4.74114576e-03,  1.65399734e-03, -9.69300047e-04, -1.03186620e-02,\n",
              "         6.74275542e-03, -3.89575871e-04,  5.47623402e-03, -7.85911642e-03,\n",
              "         8.10135715e-03,  2.40950543e-03, -1.02194231e-02,  5.47265634e-03,\n",
              "         5.42970374e-04, -4.37449245e-03, -1.22242360e-04, -3.58680007e-03,\n",
              "         7.85996323e-04,  5.77543862e-03,  7.60477223e-03, -4.35594236e-03,\n",
              "         5.50228124e-03, -5.11374045e-03,  5.71940327e-03, -3.71923181e-03,\n",
              "        -4.35046997e-04,  2.65993131e-03, -7.38271920e-04,  4.06084699e-04,\n",
              "         3.11284512e-03,  8.02945532e-03, -2.73341429e-03,  6.09686226e-03,\n",
              "        -6.60347519e-03,  1.85499643e-03,  3.64481867e-03,  9.11913998e-03,\n",
              "        -8.62338953e-03, -5.85678645e-05, -1.16695161e-03, -3.01479897e-03,\n",
              "        -1.07857853e-03,  4.58330382e-03, -2.34555616e-03, -8.50914046e-04,\n",
              "         2.16088700e-03,  4.43807384e-03, -3.26929963e-03,  5.06530050e-03,\n",
              "         4.06435598e-03, -2.94680125e-03,  7.04956532e-04,  9.36276652e-03,\n",
              "         2.10193032e-03,  1.90559600e-03, -2.30950699e-03, -3.82569130e-03,\n",
              "        -3.27798189e-03,  4.24948754e-03, -1.42091431e-03, -5.82977664e-03,\n",
              "         6.63978804e-04, -6.84893923e-03,  4.43625730e-04, -1.27699496e-02,\n",
              "        -3.01824813e-03,  8.68595362e-06, -3.58328596e-03, -2.70392466e-03,\n",
              "         5.98081562e-04,  4.16094856e-03, -8.09025299e-03,  2.81291734e-03,\n",
              "         2.13387841e-03,  2.91947252e-03, -6.37057656e-03,  4.78908856e-04,\n",
              "         8.66764691e-03, -2.89006275e-04,  4.86292690e-03,  1.38620162e-04,\n",
              "        -6.17611408e-03,  8.01364798e-03,  4.59505012e-03,  2.87058414e-03,\n",
              "         6.19623205e-03,  4.01257444e-03,  5.38397534e-03,  2.74527166e-03,\n",
              "        -5.93544776e-03,  4.76489658e-04, -1.17904125e-02,  4.84031765e-03,\n",
              "        -8.05786997e-03,  4.41103155e-04, -1.03713712e-03,  8.15827679e-03,\n",
              "        -8.08153115e-03,  3.27141141e-03, -8.92484467e-03, -3.94949876e-03,\n",
              "        -4.48585581e-03, -3.17910267e-03, -1.61105429e-03,  2.54977494e-03,\n",
              "        -4.00150148e-03,  1.53785711e-03,  2.05699471e-03, -4.00296738e-03,\n",
              "        -7.22491415e-03, -1.06925401e-03, -3.97042866e-04, -2.45427154e-03,\n",
              "         1.78294198e-03,  9.27276816e-03, -8.92011449e-04,  1.98991876e-03,\n",
              "         4.27879114e-03,  1.07654110e-02, -6.71227602e-03,  7.11410865e-03,\n",
              "        -3.97877593e-04,  2.97289062e-03, -2.62616551e-03, -8.66689440e-03,\n",
              "         1.57374423e-03, -3.44469445e-03, -7.57176371e-04, -4.81842365e-03,\n",
              "        -2.29281676e-03,  1.63767277e-03,  3.77439242e-03, -5.64265344e-03,\n",
              "        -9.44000843e-04, -2.05379352e-03, -2.89938529e-03, -2.12199870e-03,\n",
              "         2.23918189e-03,  1.24287221e-03,  5.70080883e-04, -1.38133159e-03,\n",
              "         2.42333300e-03, -6.24294160e-03, -9.33235139e-03, -6.15524035e-03,\n",
              "         1.31591409e-03,  1.58420438e-03, -4.73474804e-03,  1.46254071e-03,\n",
              "        -2.21280707e-03, -2.39092694e-03, -1.85342986e-04,  2.17956840e-03,\n",
              "         1.95996763e-04, -5.81577793e-03, -8.68113805e-03, -6.93092309e-03,\n",
              "        -9.23222862e-03, -6.90673525e-03,  2.43959273e-03, -9.33356211e-03,\n",
              "         6.63571153e-03, -6.10141968e-03, -5.05928695e-03,  7.83364102e-03,\n",
              "        -7.19347922e-03,  2.69751251e-03,  5.83227538e-03, -3.46552813e-03,\n",
              "        -1.81129924e-03, -3.55474139e-03,  2.52745673e-03, -7.50684086e-03,\n",
              "         5.86237293e-03,  2.61839246e-03, -2.60304566e-03, -1.77868619e-03,\n",
              "         5.52679936e-04,  1.35639322e-03,  9.47320426e-04,  2.39896076e-03,\n",
              "         9.48457420e-03, -1.89149939e-03, -1.78686925e-03,  2.66142655e-03,\n",
              "         1.23697501e-02, -7.45607191e-04,  4.28625615e-03, -2.01796205e-03,\n",
              "        -3.26293567e-03, -1.74508803e-03,  1.13770040e-03,  3.34388576e-03,\n",
              "         3.39301419e-03, -7.98591040e-03, -7.44557055e-03,  1.11502258e-03,\n",
              "         1.47114880e-03, -2.60768225e-03,  8.73078220e-03, -1.12011074e-03,\n",
              "         6.33307826e-03, -4.13182378e-03,  1.25400322e-02, -1.21951743e-03,\n",
              "         6.27381727e-03, -1.21900637e-03, -2.74512707e-03, -2.50328239e-03,\n",
              "        -4.56846179e-03, -1.20108633e-03, -1.71819865e-03,  3.75909428e-03,\n",
              "        -5.31795016e-03,  7.61411339e-03, -2.55795754e-03, -5.17058419e-03,\n",
              "        -4.85823257e-03, -1.53674360e-03,  1.77348475e-03, -4.98092377e-05,\n",
              "         1.08002098e-02, -5.18684648e-03, -4.78000438e-04, -1.54892169e-03,\n",
              "        -7.94944447e-03,  2.85658427e-03, -5.80611126e-03,  2.16344954e-03,\n",
              "         4.85342508e-03,  2.07214430e-03, -6.90811081e-04,  4.97133180e-04,\n",
              "         1.98615319e-03, -2.87147681e-03,  9.38371569e-03,  2.27353908e-03,\n",
              "        -1.38351438e-03, -9.59986763e-04, -1.00395246e-03,  3.12945317e-03,\n",
              "         1.16311316e-03,  3.71070602e-03, -6.43325923e-03,  7.67980237e-03,\n",
              "         3.88727011e-03, -6.27548015e-03,  3.73058184e-03,  7.67020090e-03,\n",
              "         2.40832311e-03, -3.27020418e-03, -6.33570692e-03, -9.63296928e-03,\n",
              "         3.67058231e-03,  2.16584583e-03,  1.22609898e-03,  6.66615926e-03,\n",
              "        -2.62835994e-03, -3.13564669e-03, -2.59448192e-03, -2.02320330e-03,\n",
              "         7.09905941e-03, -2.87012802e-03,  2.64778477e-03,  9.69348289e-03,\n",
              "         7.08799157e-03, -7.64262164e-04,  3.72808398e-04, -8.59819062e-04,\n",
              "        -1.99734859e-04, -9.65184253e-03, -5.05283428e-03,  5.17544104e-03,\n",
              "        -1.33813615e-03,  1.84051436e-03,  6.72896439e-03, -1.52723829e-03,\n",
              "         6.77486043e-03,  6.50990463e-04,  1.60642562e-03, -4.36103297e-03,\n",
              "         3.97000182e-03,  3.56149115e-03, -6.71768887e-03, -5.02594560e-03,\n",
              "         1.43485586e-03, -1.32365734e-03, -6.36315066e-03,  4.06157132e-03,\n",
              "        -1.57070742e-03, -7.44054932e-03,  2.44338787e-03,  6.65572984e-03,\n",
              "        -6.93411566e-03, -9.34509153e-04,  4.48444532e-03,  4.14971169e-03,\n",
              "        -4.03000769e-04,  3.14057874e-03,  2.89036660e-03, -7.13007012e-03,\n",
              "        -4.82355198e-03, -3.98584828e-03, -4.26975964e-03,  6.57708675e-04,\n",
              "         4.94300993e-03,  2.57320073e-03,  4.12607612e-03,  4.40263003e-03,\n",
              "        -6.65140618e-03,  9.87844728e-03,  7.39676040e-03,  1.87088456e-03,\n",
              "         2.75009871e-03,  1.28529395e-03,  1.89983158e-03, -1.54359685e-03,\n",
              "         4.40876884e-03, -5.69430646e-03, -8.67259968e-03,  4.99546368e-05,\n",
              "         2.51280959e-03, -1.22427372e-02,  1.95511640e-03, -5.14497235e-03,\n",
              "         3.20083112e-03,  4.48039453e-03,  4.12374083e-03,  1.11332340e-02,\n",
              "        -6.73866319e-03, -2.36747228e-03, -1.75507949e-03, -4.97231726e-04,\n",
              "         1.41085330e-02, -5.64453984e-03, -3.09829344e-03, -7.11403089e-03,\n",
              "         2.85814959e-03,  3.92478280e-04,  1.24367350e-03, -2.10662861e-03,\n",
              "        -2.33386247e-03, -2.31528375e-03, -4.77910135e-03, -5.66178840e-03,\n",
              "        -4.73544840e-03, -1.60943612e-03, -1.88786816e-03, -7.86344230e-04,\n",
              "         5.08891046e-03, -4.76150453e-04,  6.75803749e-03, -1.93788600e-03,\n",
              "         6.94232015e-03, -2.67372164e-03,  1.77415379e-03, -8.51224456e-03,\n",
              "        -4.43517230e-03, -3.31893843e-03,  7.82727543e-03,  8.46437272e-03,\n",
              "         7.85943586e-04,  1.58802286e-04, -3.04837199e-03, -5.43177975e-07,\n",
              "         9.73291695e-03, -1.03440997e-03,  4.34243772e-03,  3.88796511e-03,\n",
              "         7.02405450e-05,  5.72892698e-03,  4.78549954e-03, -3.09520122e-03,\n",
              "         5.36174001e-03, -8.83665215e-03, -9.34097823e-03,  2.21901922e-03,\n",
              "         6.21792627e-03, -9.38161556e-03, -6.82812277e-03, -9.84735414e-03,\n",
              "        -8.84266943e-03, -6.24489330e-04,  2.27218959e-03,  8.26988183e-03,\n",
              "        -5.95232891e-03,  1.69814695e-04, -4.24633408e-03,  2.61856301e-04,\n",
              "         1.29114417e-02, -1.65931077e-03,  4.35487564e-05, -1.67436444e-03,\n",
              "        -7.94097036e-03, -4.00974089e-03,  3.14074592e-03, -4.83627897e-03,\n",
              "         1.75581290e-03, -3.57905310e-03,  1.52556982e-04,  5.32450713e-03,\n",
              "        -9.29465983e-03,  1.72282057e-03, -1.62042566e-02,  2.56082949e-05,\n",
              "         1.29177421e-02, -4.80061164e-03,  3.27857211e-03, -2.14930042e-03,\n",
              "         1.00434432e-02, -1.04356427e-02,  7.34327314e-03,  2.00410082e-04,\n",
              "         9.59338434e-03,  3.31432233e-03, -5.93376206e-03, -4.92026703e-03,\n",
              "        -7.04262638e-03,  5.58179570e-04, -6.51717233e-03, -6.13039266e-03,\n",
              "        -3.77963972e-03,  2.93871085e-03,  3.98928358e-04,  6.38953177e-03],\n",
              "       dtype=float32)>,\n",
              " <tf.Variable 'Variable:0' shape=(512, 10) dtype=float32, numpy=\n",
              " array([[ 0.0725567 ,  0.03470501,  0.08182705, ...,  0.05286702,\n",
              "          0.06155367,  0.04395407],\n",
              "        [ 0.01457832,  0.0250362 ,  0.00800766, ...,  0.05395527,\n",
              "          0.06549951,  0.07696717],\n",
              "        [ 0.0236747 , -0.00333036,  0.1143534 , ...,  0.11723983,\n",
              "         -0.00410387,  0.02419343],\n",
              "        ...,\n",
              "        [ 0.04939197,  0.11426468,  0.11243417, ...,  0.02112696,\n",
              "          0.04418093,  0.03038894],\n",
              "        [ 0.10464676,  0.05208191,  0.02728287, ...,  0.03628298,\n",
              "          0.03338453,  0.0891791 ],\n",
              "        [-0.0001526 ,  0.13863079,  0.00341169, ...,  0.06977671,\n",
              "          0.13172421, -0.02519689]], dtype=float32)>,\n",
              " <tf.Variable 'Variable:0' shape=(10,) dtype=float32, numpy=\n",
              " array([-0.04613144,  0.10474718, -0.02978193, -0.02233958,  0.01844487,\n",
              "         0.01538427, -0.01133214,  0.0300274 , -0.06311508,  0.00409648],\n",
              "       dtype=float32)>]"
            ]
          },
          "metadata": {},
          "execution_count": 170
        }
      ]
    },
    {
      "cell_type": "code",
      "execution_count": null,
      "metadata": {
        "id": "Dge23pUKHmyA",
        "colab": {
          "base_uri": "https://localhost:8080/"
        },
        "outputId": "81f2f1bf-b500-486f-81ad-00aea0ee7cbf"
      },
      "outputs": [
        {
          "output_type": "stream",
          "name": "stdout",
          "text": [
            "accuracy: 0.82\n"
          ]
        }
      ],
      "source": [
        "predictions = model(test_images)\n",
        "predictions = predictions.numpy()\n",
        "predicted_labels = np.argmax(predictions, axis=1)\n",
        "matches = predicted_labels == test_labels\n",
        "print(f\"accuracy: {matches.mean():.2f}\")"
      ]
    },
    {
      "cell_type": "markdown",
      "metadata": {
        "id": "XxA1qrVOHmyA"
      },
      "source": [
        "## Summary"
      ]
    },
    {
      "cell_type": "code",
      "source": [],
      "metadata": {
        "id": "hkB2kCAgZQw3"
      },
      "execution_count": null,
      "outputs": []
    }
  ],
  "metadata": {
    "colab": {
      "provenance": [],
      "toc_visible": true,
      "include_colab_link": true
    },
    "kernelspec": {
      "display_name": "Python 3",
      "language": "python",
      "name": "python3"
    },
    "language_info": {
      "codemirror_mode": {
        "name": "ipython",
        "version": 3
      },
      "file_extension": ".py",
      "mimetype": "text/x-python",
      "name": "python",
      "nbconvert_exporter": "python",
      "pygments_lexer": "ipython3",
      "version": "3.7.0"
    }
  },
  "nbformat": 4,
  "nbformat_minor": 0
}